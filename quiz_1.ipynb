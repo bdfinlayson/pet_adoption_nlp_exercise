{
 "cells": [
  {
   "cell_type": "code",
   "execution_count": null,
   "outputs": [],
   "source": [
    "# We're going to be gathering data on the animals up for adoption\n",
    "# at the local animal shelter in Franklin.\n",
    "# Then we'll use some NLP techniques to decide which pet to adopt ;)"
   ],
   "metadata": {
    "collapsed": false,
    "pycharm": {
     "name": "#%%\n"
    }
   }
  },
  {
   "cell_type": "code",
   "execution_count": 18,
   "outputs": [],
   "source": [
    "# The overall goal we're seeking to accomplish is to use the animal shelter's listing of pets that are up for adoption to gather metadata on each pet (name, breed, age, life story, etc).\n",
    "# For your reference, this is the page I'm talking about: https://www.petfinder.com/search/pets-for-adoption/?shelter_id%5B0%5D=TN75&sort%5B0%5D=recently_added\n",
    "# We'll then clean the data using some string and regex techniques and put the cleaned data into a Pandas dataframe.\n",
    "# After that, we'll perform some NLP analysis on the content to find the best pet currently up for adoption.\n",
    "\n",
    "\n",
    "# First, we need to get the data.\n",
    "# Normally, it is common to use Python's built-in HTTP library, called \"requests\", for this task.\n",
    "# However, the \"requests\" library only works for static websites. Our website is not static and uses Javascript to display content.\n",
    "# So instead, we need to use a library that can understand Javascript so that we can get the data we need from the site.\n",
    "# The library we want is called Selenium.\n",
    "\n",
    "# Selenium is what's called a \"headless web browser\", and it basically behaves same way that your browser does when you navigate around the web.\n",
    "# There is some setup involved in order to get Selenium running on our machine.\n",
    "# We need to install a driver that will allow us to use Selenium.\n",
    "# Lets install using the package manager called Homebrew\n",
    "# Install homebrew by using this command in your terminal:\n",
    "# /bin/bash -c \"$(curl -fsSL https://raw.githubusercontent.com/Homebrew/install/HEAD/install.sh)\"\n",
    "# then follow the installation prompts\n",
    "\n",
    "# after Homebrew finishes installing, we can install our driver\n",
    "# in the terminal, inter the following command to install the driver:\n",
    "# brew install geckodriver\n",
    "# Note that geckodriver is the driver used by the selenium Firefox emulator, which is what we'll be using in this exercise.\n",
    "\n",
    "# Now we're ready to use selenium\n",
    "# We'll start by making a request to the main website page that lists all the pets up for adoption.\n",
    "# We start by importing the library like so:\n",
    "from selenium import webdriver\n",
    "\n",
    "# and then we declare the url of the web page we want to fetch\n",
    "url = 'https://www.petfinder.com/search/pets-for-adoption/?shelter_id%5B0%5D=TN75&sort%5B0%5D=recently_added'\n",
    "\n",
    "# and now we're ready to make the request\n",
    "# Note we'll be using what is called a GET request. Just FYI, there are 4 main types of requests under the HTTP protocol: GET, POST, PUT, and PATCH.\n",
    "driver = webdriver.Firefox()\n",
    "driver.get(url)"
   ],
   "metadata": {
    "collapsed": false,
    "pycharm": {
     "name": "#%%\n"
    }
   }
  },
  {
   "cell_type": "code",
   "execution_count": 19,
   "outputs": [],
   "source": [
    "# Okay great, the driver object now has the response. The driver object has many properties, but the one we're interested in is \"page_source\".\n",
    "# We want to use the \"page_source\" property on driver to access the page's content, which is the HTML markup for the page.\n",
    "\n",
    "# A sidenote about HTML:\n",
    "# HTML is a markup language that controls how browsers interpret the structure of a webpage for display purposes.\n",
    "# HTML markup is essentially a series of so-called \"tags\" that developers use to indicate what content on the page is an image, a header, a paragraph, a link, etc.\n",
    "# For example, a header tag, which we would use to indicate maybe the title of a page, like The New York Times, looks like this <h1>The New York Times</h1>\n",
    "# Links, usually displayed as text that when you can click on them bring you to a new page, also have a special tag in HTML, called an \"a\" tag, written as <a>\n",
    "# All <a> tags have a property called an \"href\", and this href is how the browser knows where to send the user to when they click the link\n",
    "# I say all this as background, because now that we have our response content from our earlier request, we need to now extract from that HTML content a list of the links to each pet's profile page\n",
    "# For example, this is a pet profile page: https://www.petfinder.com/cat/raley-55475696/tn/franklin/williamson-county-animal-center-tn75/\n",
    "# Once we have that list of links, we'll use it to visit each page and capture the relevant pet metadata that will go into our dataframe\n",
    "\n",
    "# In order to find the links in the HTML content, we'll need another Python library called BeautifulSoup (also called bs4)\n",
    "# BeautifulSoup makes it easy read and extract information from HTML documents, like the webpage we just fetched!\n",
    "# So let's import the BeautifulSoup class from bs4\n",
    "\n",
    "from bs4 import BeautifulSoup\n",
    "\n",
    "# First we'll pass our HTML content to BeautifulSoup, preparing the HTML document for processing, and save the resulting object to a variable\n",
    "soup = BeautifulSoup(driver.page_source, 'html.parser')\n",
    "\n",
    "# And then let's use BeautifulSoup to extract all the links to the pet profile pages and save them to a list. There were 25 pets listed when I ran this the other day.\n",
    "pet_profiles = soup.find_all('a', {'class': 'petCard-link'})\n"
   ],
   "metadata": {
    "collapsed": false,
    "pycharm": {
     "name": "#%%\n"
    }
   }
  },
  {
   "cell_type": "code",
   "execution_count": 21,
   "outputs": [
    {
     "data": {
      "text/plain": "'https://www.petfinder.com/cat/kyiv-55517590/tn/franklin/williamson-county-animal-center-tn75/'"
     },
     "execution_count": 21,
     "metadata": {},
     "output_type": "execute_result"
    }
   ],
   "source": [
    "# Now that we have our link elements, we can access their href values like so:\n",
    "pet_profiles[0].attrs['href']"
   ],
   "metadata": {
    "collapsed": false,
    "pycharm": {
     "name": "#%%\n"
    }
   }
  },
  {
   "cell_type": "code",
   "execution_count": null,
   "outputs": [],
   "source": [
    "# If you manually inspect the profile page using your browser's Developer Tools, you'll see which HTML elements have the info we want.\n",
    "# All of the elements are marked with a property named \"data-test\". The property will have a value, such as \"Pet_Name\".\n",
    "# Here's a list of the data-test values we want to capture:\n",
    "\n",
    "# spans:\n",
    "## Pet_Name\n",
    "## Pet_Breeds\n",
    "## Pet_Age\n",
    "## Pet_Sex\n",
    "## Pet_Full_Grown_Size\n",
    "## Pet_Primary_Color\n",
    "\n",
    "# divs:\n",
    "## Pet_About_Section\n",
    "## Pet_Story_Section"
   ],
   "metadata": {
    "collapsed": false,
    "pycharm": {
     "name": "#%%\n"
    }
   }
  },
  {
   "cell_type": "code",
   "execution_count": 67,
   "outputs": [],
   "source": [
    "# we're getting ready to create our dataset, so let's import pandas now and create an empty dataset\n",
    "import pandas as pd\n",
    "\n",
    "df = pd.DataFrame()"
   ],
   "metadata": {
    "collapsed": false,
    "pycharm": {
     "name": "#%%\n"
    }
   }
  },
  {
   "cell_type": "code",
   "execution_count": 68,
   "outputs": [
    {
     "name": "stderr",
     "output_type": "stream",
     "text": [
      "/var/folders/kb/3pjtmdb110z0myp6wf86bq0h0000gn/T/ipykernel_29259/1655636417.py:32: FutureWarning: The frame.append method is deprecated and will be removed from pandas in a future version. Use pandas.concat instead.\n",
      "  df = df.append({'name': name, 'breed': breed, 'age': age, 'sex': sex, 'size': size, 'color': color, 'about': about, 'story': story}, ignore_index=True)\n",
      "/var/folders/kb/3pjtmdb110z0myp6wf86bq0h0000gn/T/ipykernel_29259/1655636417.py:32: FutureWarning: The frame.append method is deprecated and will be removed from pandas in a future version. Use pandas.concat instead.\n",
      "  df = df.append({'name': name, 'breed': breed, 'age': age, 'sex': sex, 'size': size, 'color': color, 'about': about, 'story': story}, ignore_index=True)\n",
      "/var/folders/kb/3pjtmdb110z0myp6wf86bq0h0000gn/T/ipykernel_29259/1655636417.py:32: FutureWarning: The frame.append method is deprecated and will be removed from pandas in a future version. Use pandas.concat instead.\n",
      "  df = df.append({'name': name, 'breed': breed, 'age': age, 'sex': sex, 'size': size, 'color': color, 'about': about, 'story': story}, ignore_index=True)\n",
      "/var/folders/kb/3pjtmdb110z0myp6wf86bq0h0000gn/T/ipykernel_29259/1655636417.py:32: FutureWarning: The frame.append method is deprecated and will be removed from pandas in a future version. Use pandas.concat instead.\n",
      "  df = df.append({'name': name, 'breed': breed, 'age': age, 'sex': sex, 'size': size, 'color': color, 'about': about, 'story': story}, ignore_index=True)\n",
      "/var/folders/kb/3pjtmdb110z0myp6wf86bq0h0000gn/T/ipykernel_29259/1655636417.py:32: FutureWarning: The frame.append method is deprecated and will be removed from pandas in a future version. Use pandas.concat instead.\n",
      "  df = df.append({'name': name, 'breed': breed, 'age': age, 'sex': sex, 'size': size, 'color': color, 'about': about, 'story': story}, ignore_index=True)\n",
      "/var/folders/kb/3pjtmdb110z0myp6wf86bq0h0000gn/T/ipykernel_29259/1655636417.py:32: FutureWarning: The frame.append method is deprecated and will be removed from pandas in a future version. Use pandas.concat instead.\n",
      "  df = df.append({'name': name, 'breed': breed, 'age': age, 'sex': sex, 'size': size, 'color': color, 'about': about, 'story': story}, ignore_index=True)\n",
      "/var/folders/kb/3pjtmdb110z0myp6wf86bq0h0000gn/T/ipykernel_29259/1655636417.py:32: FutureWarning: The frame.append method is deprecated and will be removed from pandas in a future version. Use pandas.concat instead.\n",
      "  df = df.append({'name': name, 'breed': breed, 'age': age, 'sex': sex, 'size': size, 'color': color, 'about': about, 'story': story}, ignore_index=True)\n",
      "/var/folders/kb/3pjtmdb110z0myp6wf86bq0h0000gn/T/ipykernel_29259/1655636417.py:32: FutureWarning: The frame.append method is deprecated and will be removed from pandas in a future version. Use pandas.concat instead.\n",
      "  df = df.append({'name': name, 'breed': breed, 'age': age, 'sex': sex, 'size': size, 'color': color, 'about': about, 'story': story}, ignore_index=True)\n",
      "/var/folders/kb/3pjtmdb110z0myp6wf86bq0h0000gn/T/ipykernel_29259/1655636417.py:32: FutureWarning: The frame.append method is deprecated and will be removed from pandas in a future version. Use pandas.concat instead.\n",
      "  df = df.append({'name': name, 'breed': breed, 'age': age, 'sex': sex, 'size': size, 'color': color, 'about': about, 'story': story}, ignore_index=True)\n",
      "/var/folders/kb/3pjtmdb110z0myp6wf86bq0h0000gn/T/ipykernel_29259/1655636417.py:32: FutureWarning: The frame.append method is deprecated and will be removed from pandas in a future version. Use pandas.concat instead.\n",
      "  df = df.append({'name': name, 'breed': breed, 'age': age, 'sex': sex, 'size': size, 'color': color, 'about': about, 'story': story}, ignore_index=True)\n",
      "/var/folders/kb/3pjtmdb110z0myp6wf86bq0h0000gn/T/ipykernel_29259/1655636417.py:32: FutureWarning: The frame.append method is deprecated and will be removed from pandas in a future version. Use pandas.concat instead.\n",
      "  df = df.append({'name': name, 'breed': breed, 'age': age, 'sex': sex, 'size': size, 'color': color, 'about': about, 'story': story}, ignore_index=True)\n",
      "/var/folders/kb/3pjtmdb110z0myp6wf86bq0h0000gn/T/ipykernel_29259/1655636417.py:32: FutureWarning: The frame.append method is deprecated and will be removed from pandas in a future version. Use pandas.concat instead.\n",
      "  df = df.append({'name': name, 'breed': breed, 'age': age, 'sex': sex, 'size': size, 'color': color, 'about': about, 'story': story}, ignore_index=True)\n",
      "/var/folders/kb/3pjtmdb110z0myp6wf86bq0h0000gn/T/ipykernel_29259/1655636417.py:32: FutureWarning: The frame.append method is deprecated and will be removed from pandas in a future version. Use pandas.concat instead.\n",
      "  df = df.append({'name': name, 'breed': breed, 'age': age, 'sex': sex, 'size': size, 'color': color, 'about': about, 'story': story}, ignore_index=True)\n",
      "/var/folders/kb/3pjtmdb110z0myp6wf86bq0h0000gn/T/ipykernel_29259/1655636417.py:32: FutureWarning: The frame.append method is deprecated and will be removed from pandas in a future version. Use pandas.concat instead.\n",
      "  df = df.append({'name': name, 'breed': breed, 'age': age, 'sex': sex, 'size': size, 'color': color, 'about': about, 'story': story}, ignore_index=True)\n",
      "/var/folders/kb/3pjtmdb110z0myp6wf86bq0h0000gn/T/ipykernel_29259/1655636417.py:32: FutureWarning: The frame.append method is deprecated and will be removed from pandas in a future version. Use pandas.concat instead.\n",
      "  df = df.append({'name': name, 'breed': breed, 'age': age, 'sex': sex, 'size': size, 'color': color, 'about': about, 'story': story}, ignore_index=True)\n",
      "/var/folders/kb/3pjtmdb110z0myp6wf86bq0h0000gn/T/ipykernel_29259/1655636417.py:32: FutureWarning: The frame.append method is deprecated and will be removed from pandas in a future version. Use pandas.concat instead.\n",
      "  df = df.append({'name': name, 'breed': breed, 'age': age, 'sex': sex, 'size': size, 'color': color, 'about': about, 'story': story}, ignore_index=True)\n",
      "/var/folders/kb/3pjtmdb110z0myp6wf86bq0h0000gn/T/ipykernel_29259/1655636417.py:32: FutureWarning: The frame.append method is deprecated and will be removed from pandas in a future version. Use pandas.concat instead.\n",
      "  df = df.append({'name': name, 'breed': breed, 'age': age, 'sex': sex, 'size': size, 'color': color, 'about': about, 'story': story}, ignore_index=True)\n",
      "/var/folders/kb/3pjtmdb110z0myp6wf86bq0h0000gn/T/ipykernel_29259/1655636417.py:32: FutureWarning: The frame.append method is deprecated and will be removed from pandas in a future version. Use pandas.concat instead.\n",
      "  df = df.append({'name': name, 'breed': breed, 'age': age, 'sex': sex, 'size': size, 'color': color, 'about': about, 'story': story}, ignore_index=True)\n",
      "/var/folders/kb/3pjtmdb110z0myp6wf86bq0h0000gn/T/ipykernel_29259/1655636417.py:32: FutureWarning: The frame.append method is deprecated and will be removed from pandas in a future version. Use pandas.concat instead.\n",
      "  df = df.append({'name': name, 'breed': breed, 'age': age, 'sex': sex, 'size': size, 'color': color, 'about': about, 'story': story}, ignore_index=True)\n",
      "/var/folders/kb/3pjtmdb110z0myp6wf86bq0h0000gn/T/ipykernel_29259/1655636417.py:32: FutureWarning: The frame.append method is deprecated and will be removed from pandas in a future version. Use pandas.concat instead.\n",
      "  df = df.append({'name': name, 'breed': breed, 'age': age, 'sex': sex, 'size': size, 'color': color, 'about': about, 'story': story}, ignore_index=True)\n",
      "/var/folders/kb/3pjtmdb110z0myp6wf86bq0h0000gn/T/ipykernel_29259/1655636417.py:32: FutureWarning: The frame.append method is deprecated and will be removed from pandas in a future version. Use pandas.concat instead.\n",
      "  df = df.append({'name': name, 'breed': breed, 'age': age, 'sex': sex, 'size': size, 'color': color, 'about': about, 'story': story}, ignore_index=True)\n",
      "/var/folders/kb/3pjtmdb110z0myp6wf86bq0h0000gn/T/ipykernel_29259/1655636417.py:32: FutureWarning: The frame.append method is deprecated and will be removed from pandas in a future version. Use pandas.concat instead.\n",
      "  df = df.append({'name': name, 'breed': breed, 'age': age, 'sex': sex, 'size': size, 'color': color, 'about': about, 'story': story}, ignore_index=True)\n",
      "/var/folders/kb/3pjtmdb110z0myp6wf86bq0h0000gn/T/ipykernel_29259/1655636417.py:32: FutureWarning: The frame.append method is deprecated and will be removed from pandas in a future version. Use pandas.concat instead.\n",
      "  df = df.append({'name': name, 'breed': breed, 'age': age, 'sex': sex, 'size': size, 'color': color, 'about': about, 'story': story}, ignore_index=True)\n",
      "/var/folders/kb/3pjtmdb110z0myp6wf86bq0h0000gn/T/ipykernel_29259/1655636417.py:32: FutureWarning: The frame.append method is deprecated and will be removed from pandas in a future version. Use pandas.concat instead.\n",
      "  df = df.append({'name': name, 'breed': breed, 'age': age, 'sex': sex, 'size': size, 'color': color, 'about': about, 'story': story}, ignore_index=True)\n",
      "/var/folders/kb/3pjtmdb110z0myp6wf86bq0h0000gn/T/ipykernel_29259/1655636417.py:32: FutureWarning: The frame.append method is deprecated and will be removed from pandas in a future version. Use pandas.concat instead.\n",
      "  df = df.append({'name': name, 'breed': breed, 'age': age, 'sex': sex, 'size': size, 'color': color, 'about': about, 'story': story}, ignore_index=True)\n"
     ]
    }
   ],
   "source": [
    "# Now that we have our dataframe ready, let's get some pet profile data!\n",
    "# Since the pet profile pages are static pages (meaning they don't rely on Javascript to render their content), we don't need Selenium anymore.\n",
    "# So lets instead use Python's built-in HTTP requests library to fetch the individual pet profile pages.\n",
    "import requests\n",
    "\n",
    "# Now this is where things get tricky.\n",
    "# We have a list of links, so we know that we'll need to loop over the list.\n",
    "# As we loop, we'll make a request for a single profile page, then extract its content.\n",
    "# And then we'll append that content to the dataframe we made above.\n",
    "\n",
    "# So lets first make our loop\n",
    "for link in pet_profiles:\n",
    "    # Then let's use the link's href to fetch the profile page\n",
    "    # We make our GET requests by passing the href into the get method and save the result to a variable we'll call \"response\".\n",
    "    response = requests.get(pet_profiles[3].attrs['href'])\n",
    "\n",
    "    # Great! We have our HTML page. Now let's use BeautifulSoup to extract the text data we want for our dataframe.\n",
    "    soup = BeautifulSoup(response.content, 'html.parser')\n",
    "    # Lets find our span elements first\n",
    "    name = soup.find('span', {'data-test': 'Pet_Name'}).text\n",
    "    breed = soup.find('span', {'data-test': 'Pet_Breeds'}).text\n",
    "    age = soup.find('span', {'data-test': 'Pet_Age'}).text\n",
    "    sex = soup.find('span', {'data-test': 'Pet_Sex'}).text\n",
    "    size = soup.find('span', {'data-test': 'Pet_Full_Grown_Size'}).text\n",
    "    color = soup.find('span', {'data-test': 'Pet_Primary_Color'}).text\n",
    "\n",
    "    # Then lets find our div elements\n",
    "    about = soup.find('div', {'data-test': 'Pet_About_Section'}).text\n",
    "    story = soup.find('div', {'data-test': 'Pet_Story_Section'}).text\n",
    "\n",
    "    # Sweet! We're ready to stash all this in our dataframe using the append() method\n",
    "    df = df.append({'name': name, 'breed': breed, 'age': age, 'sex': sex, 'size': size, 'color': color, 'about': about, 'story': story}, ignore_index=True)\n"
   ],
   "metadata": {
    "collapsed": false,
    "pycharm": {
     "name": "#%%\n"
    }
   }
  },
  {
   "cell_type": "code",
   "execution_count": 49,
   "outputs": [
    {
     "name": "stdout",
     "output_type": "stream",
     "text": [
      "<class 'pandas.core.frame.DataFrame'>\n",
      "RangeIndex: 25 entries, 0 to 24\n",
      "Data columns (total 8 columns):\n",
      " #   Column  Non-Null Count  Dtype \n",
      "---  ------  --------------  ----- \n",
      " 0   name    25 non-null     object\n",
      " 1   breed   25 non-null     object\n",
      " 2   age     25 non-null     object\n",
      " 3   sex     25 non-null     object\n",
      " 4   size    25 non-null     object\n",
      " 5   color   25 non-null     object\n",
      " 6   about   25 non-null     object\n",
      " 7   story   25 non-null     object\n",
      "dtypes: object(8)\n",
      "memory usage: 1.7+ KB\n"
     ]
    }
   ],
   "source": [
    "# Now lets inspect how our data looks!\n",
    "df.info()"
   ],
   "metadata": {
    "collapsed": false,
    "pycharm": {
     "name": "#%%\n"
    }
   }
  },
  {
   "cell_type": "code",
   "execution_count": 50,
   "outputs": [
    {
     "data": {
      "text/plain": "                                   name               breed  \\\n0  \\n                Nova\\n              \\nSiberian Husky\\n   \n1  \\n                Nova\\n              \\nSiberian Husky\\n   \n2  \\n                Nova\\n              \\nSiberian Husky\\n   \n3  \\n                Nova\\n              \\nSiberian Husky\\n   \n4  \\n                Nova\\n              \\nSiberian Husky\\n   \n\n                                                 age  \\\n0  \\n                        Adult\\n             ...   \n1  \\n                        Adult\\n             ...   \n2  \\n                        Adult\\n             ...   \n3  \\n                        Adult\\n             ...   \n4  \\n                        Adult\\n             ...   \n\n                                                 sex  \\\n0  \\n                        Male\\n              ...   \n1  \\n                        Male\\n              ...   \n2  \\n                        Male\\n              ...   \n3  \\n                        Male\\n              ...   \n4  \\n                        Male\\n              ...   \n\n                                                size          color  \\\n0  \\n                        Large\\n             ...  White / Cream   \n1  \\n                        Large\\n             ...  White / Cream   \n2  \\n                        Large\\n             ...  White / Cream   \n3  \\n                        Large\\n             ...  White / Cream   \n4  \\n                        Large\\n             ...  White / Cream   \n\n                                               about  \\\n0  \\n\\n\\n                About\\n    \\n\\n\\n\\nChara...   \n1  \\n\\n\\n                About\\n    \\n\\n\\n\\nChara...   \n2  \\n\\n\\n                About\\n    \\n\\n\\n\\nChara...   \n3  \\n\\n\\n                About\\n    \\n\\n\\n\\nChara...   \n4  \\n\\n\\n                About\\n    \\n\\n\\n\\nChara...   \n\n                                               story  \n0  \\n\\n\\n        Meet Nova\\n    \\n\\n        Meet ...  \n1  \\n\\n\\n        Meet Nova\\n    \\n\\n        Meet ...  \n2  \\n\\n\\n        Meet Nova\\n    \\n\\n        Meet ...  \n3  \\n\\n\\n        Meet Nova\\n    \\n\\n        Meet ...  \n4  \\n\\n\\n        Meet Nova\\n    \\n\\n        Meet ...  ",
      "text/html": "<div>\n<style scoped>\n    .dataframe tbody tr th:only-of-type {\n        vertical-align: middle;\n    }\n\n    .dataframe tbody tr th {\n        vertical-align: top;\n    }\n\n    .dataframe thead th {\n        text-align: right;\n    }\n</style>\n<table border=\"1\" class=\"dataframe\">\n  <thead>\n    <tr style=\"text-align: right;\">\n      <th></th>\n      <th>name</th>\n      <th>breed</th>\n      <th>age</th>\n      <th>sex</th>\n      <th>size</th>\n      <th>color</th>\n      <th>about</th>\n      <th>story</th>\n    </tr>\n  </thead>\n  <tbody>\n    <tr>\n      <th>0</th>\n      <td>\\n                Nova\\n</td>\n      <td>\\nSiberian Husky\\n</td>\n      <td>\\n                        Adult\\n             ...</td>\n      <td>\\n                        Male\\n              ...</td>\n      <td>\\n                        Large\\n             ...</td>\n      <td>White / Cream</td>\n      <td>\\n\\n\\n                About\\n    \\n\\n\\n\\nChara...</td>\n      <td>\\n\\n\\n        Meet Nova\\n    \\n\\n        Meet ...</td>\n    </tr>\n    <tr>\n      <th>1</th>\n      <td>\\n                Nova\\n</td>\n      <td>\\nSiberian Husky\\n</td>\n      <td>\\n                        Adult\\n             ...</td>\n      <td>\\n                        Male\\n              ...</td>\n      <td>\\n                        Large\\n             ...</td>\n      <td>White / Cream</td>\n      <td>\\n\\n\\n                About\\n    \\n\\n\\n\\nChara...</td>\n      <td>\\n\\n\\n        Meet Nova\\n    \\n\\n        Meet ...</td>\n    </tr>\n    <tr>\n      <th>2</th>\n      <td>\\n                Nova\\n</td>\n      <td>\\nSiberian Husky\\n</td>\n      <td>\\n                        Adult\\n             ...</td>\n      <td>\\n                        Male\\n              ...</td>\n      <td>\\n                        Large\\n             ...</td>\n      <td>White / Cream</td>\n      <td>\\n\\n\\n                About\\n    \\n\\n\\n\\nChara...</td>\n      <td>\\n\\n\\n        Meet Nova\\n    \\n\\n        Meet ...</td>\n    </tr>\n    <tr>\n      <th>3</th>\n      <td>\\n                Nova\\n</td>\n      <td>\\nSiberian Husky\\n</td>\n      <td>\\n                        Adult\\n             ...</td>\n      <td>\\n                        Male\\n              ...</td>\n      <td>\\n                        Large\\n             ...</td>\n      <td>White / Cream</td>\n      <td>\\n\\n\\n                About\\n    \\n\\n\\n\\nChara...</td>\n      <td>\\n\\n\\n        Meet Nova\\n    \\n\\n        Meet ...</td>\n    </tr>\n    <tr>\n      <th>4</th>\n      <td>\\n                Nova\\n</td>\n      <td>\\nSiberian Husky\\n</td>\n      <td>\\n                        Adult\\n             ...</td>\n      <td>\\n                        Male\\n              ...</td>\n      <td>\\n                        Large\\n             ...</td>\n      <td>White / Cream</td>\n      <td>\\n\\n\\n                About\\n    \\n\\n\\n\\nChara...</td>\n      <td>\\n\\n\\n        Meet Nova\\n    \\n\\n        Meet ...</td>\n    </tr>\n  </tbody>\n</table>\n</div>"
     },
     "execution_count": 50,
     "metadata": {},
     "output_type": "execute_result"
    }
   ],
   "source": [
    "df.head()"
   ],
   "metadata": {
    "collapsed": false,
    "pycharm": {
     "name": "#%%\n"
    }
   }
  },
  {
   "cell_type": "code",
   "execution_count": 70,
   "outputs": [],
   "source": [
    "# Uh oh! There seems to be some clutter in the strings, like lots of whitespace and newline markers.\n",
    "# Lets write a popular string function called \"strip\" to clean that up.\n",
    "# And then let's use it on our dataframe's data by leveraging the \"apply\" method\n",
    "# Note that you'll need to use a lambda for this\n",
    "\n",
    "df = df.apply(lambda x: x.str.strip())\n"
   ],
   "metadata": {
    "collapsed": false,
    "pycharm": {
     "name": "#%%\n"
    }
   }
  },
  {
   "cell_type": "code",
   "execution_count": 71,
   "outputs": [
    {
     "data": {
      "text/plain": "   name           breed    age   sex   size          color  \\\n0  Nova  Siberian Husky  Adult  Male  Large  White / Cream   \n1  Nova  Siberian Husky  Adult  Male  Large  White / Cream   \n2  Nova  Siberian Husky  Adult  Male  Large  White / Cream   \n3  Nova  Siberian Husky  Adult  Male  Large  White / Cream   \n4  Nova  Siberian Husky  Adult  Male  Large  White / Cream   \n\n                                               about  \\\n0  About\\n    \\n\\n\\n\\nCharacteristics\\nHigh energ...   \n1  About\\n    \\n\\n\\n\\nCharacteristics\\nHigh energ...   \n2  About\\n    \\n\\n\\n\\nCharacteristics\\nHigh energ...   \n3  About\\n    \\n\\n\\n\\nCharacteristics\\nHigh energ...   \n4  About\\n    \\n\\n\\n\\nCharacteristics\\nHigh energ...   \n\n                                               story  \n0  Meet Nova\\n    \\n\\n        Meet Nova, Age 5\\nW...  \n1  Meet Nova\\n    \\n\\n        Meet Nova, Age 5\\nW...  \n2  Meet Nova\\n    \\n\\n        Meet Nova, Age 5\\nW...  \n3  Meet Nova\\n    \\n\\n        Meet Nova, Age 5\\nW...  \n4  Meet Nova\\n    \\n\\n        Meet Nova, Age 5\\nW...  ",
      "text/html": "<div>\n<style scoped>\n    .dataframe tbody tr th:only-of-type {\n        vertical-align: middle;\n    }\n\n    .dataframe tbody tr th {\n        vertical-align: top;\n    }\n\n    .dataframe thead th {\n        text-align: right;\n    }\n</style>\n<table border=\"1\" class=\"dataframe\">\n  <thead>\n    <tr style=\"text-align: right;\">\n      <th></th>\n      <th>name</th>\n      <th>breed</th>\n      <th>age</th>\n      <th>sex</th>\n      <th>size</th>\n      <th>color</th>\n      <th>about</th>\n      <th>story</th>\n    </tr>\n  </thead>\n  <tbody>\n    <tr>\n      <th>0</th>\n      <td>Nova</td>\n      <td>Siberian Husky</td>\n      <td>Adult</td>\n      <td>Male</td>\n      <td>Large</td>\n      <td>White / Cream</td>\n      <td>About\\n    \\n\\n\\n\\nCharacteristics\\nHigh energ...</td>\n      <td>Meet Nova\\n    \\n\\n        Meet Nova, Age 5\\nW...</td>\n    </tr>\n    <tr>\n      <th>1</th>\n      <td>Nova</td>\n      <td>Siberian Husky</td>\n      <td>Adult</td>\n      <td>Male</td>\n      <td>Large</td>\n      <td>White / Cream</td>\n      <td>About\\n    \\n\\n\\n\\nCharacteristics\\nHigh energ...</td>\n      <td>Meet Nova\\n    \\n\\n        Meet Nova, Age 5\\nW...</td>\n    </tr>\n    <tr>\n      <th>2</th>\n      <td>Nova</td>\n      <td>Siberian Husky</td>\n      <td>Adult</td>\n      <td>Male</td>\n      <td>Large</td>\n      <td>White / Cream</td>\n      <td>About\\n    \\n\\n\\n\\nCharacteristics\\nHigh energ...</td>\n      <td>Meet Nova\\n    \\n\\n        Meet Nova, Age 5\\nW...</td>\n    </tr>\n    <tr>\n      <th>3</th>\n      <td>Nova</td>\n      <td>Siberian Husky</td>\n      <td>Adult</td>\n      <td>Male</td>\n      <td>Large</td>\n      <td>White / Cream</td>\n      <td>About\\n    \\n\\n\\n\\nCharacteristics\\nHigh energ...</td>\n      <td>Meet Nova\\n    \\n\\n        Meet Nova, Age 5\\nW...</td>\n    </tr>\n    <tr>\n      <th>4</th>\n      <td>Nova</td>\n      <td>Siberian Husky</td>\n      <td>Adult</td>\n      <td>Male</td>\n      <td>Large</td>\n      <td>White / Cream</td>\n      <td>About\\n    \\n\\n\\n\\nCharacteristics\\nHigh energ...</td>\n      <td>Meet Nova\\n    \\n\\n        Meet Nova, Age 5\\nW...</td>\n    </tr>\n  </tbody>\n</table>\n</div>"
     },
     "execution_count": 71,
     "metadata": {},
     "output_type": "execute_result"
    }
   ],
   "source": [
    "# let's inspect our data again\n",
    "df.head()"
   ],
   "metadata": {
    "collapsed": false,
    "pycharm": {
     "name": "#%%\n"
    }
   }
  },
  {
   "cell_type": "code",
   "execution_count": 73,
   "outputs": [
    {
     "data": {
      "text/plain": "   name           breed    age   sex   size          color  \\\n0  Nova  Siberian Husky  Adult  Male  Large  White / Cream   \n1  Nova  Siberian Husky  Adult  Male  Large  White / Cream   \n2  Nova  Siberian Husky  Adult  Male  Large  White / Cream   \n3  Nova  Siberian Husky  Adult  Male  Large  White / Cream   \n4  Nova  Siberian Husky  Adult  Male  Large  White / Cream   \n\n                                               about  \\\n0  About      Characteristics High energy, Not Ho...   \n1  About      Characteristics High energy, Not Ho...   \n2  About      Characteristics High energy, Not Ho...   \n3  About      Characteristics High energy, Not Ho...   \n4  About      Characteristics High energy, Not Ho...   \n\n                                               story  \n0  Meet Nova              Meet Nova, Age 5 Weight...  \n1  Meet Nova              Meet Nova, Age 5 Weight...  \n2  Meet Nova              Meet Nova, Age 5 Weight...  \n3  Meet Nova              Meet Nova, Age 5 Weight...  \n4  Meet Nova              Meet Nova, Age 5 Weight...  ",
      "text/html": "<div>\n<style scoped>\n    .dataframe tbody tr th:only-of-type {\n        vertical-align: middle;\n    }\n\n    .dataframe tbody tr th {\n        vertical-align: top;\n    }\n\n    .dataframe thead th {\n        text-align: right;\n    }\n</style>\n<table border=\"1\" class=\"dataframe\">\n  <thead>\n    <tr style=\"text-align: right;\">\n      <th></th>\n      <th>name</th>\n      <th>breed</th>\n      <th>age</th>\n      <th>sex</th>\n      <th>size</th>\n      <th>color</th>\n      <th>about</th>\n      <th>story</th>\n    </tr>\n  </thead>\n  <tbody>\n    <tr>\n      <th>0</th>\n      <td>Nova</td>\n      <td>Siberian Husky</td>\n      <td>Adult</td>\n      <td>Male</td>\n      <td>Large</td>\n      <td>White / Cream</td>\n      <td>About      Characteristics High energy, Not Ho...</td>\n      <td>Meet Nova              Meet Nova, Age 5 Weight...</td>\n    </tr>\n    <tr>\n      <th>1</th>\n      <td>Nova</td>\n      <td>Siberian Husky</td>\n      <td>Adult</td>\n      <td>Male</td>\n      <td>Large</td>\n      <td>White / Cream</td>\n      <td>About      Characteristics High energy, Not Ho...</td>\n      <td>Meet Nova              Meet Nova, Age 5 Weight...</td>\n    </tr>\n    <tr>\n      <th>2</th>\n      <td>Nova</td>\n      <td>Siberian Husky</td>\n      <td>Adult</td>\n      <td>Male</td>\n      <td>Large</td>\n      <td>White / Cream</td>\n      <td>About      Characteristics High energy, Not Ho...</td>\n      <td>Meet Nova              Meet Nova, Age 5 Weight...</td>\n    </tr>\n    <tr>\n      <th>3</th>\n      <td>Nova</td>\n      <td>Siberian Husky</td>\n      <td>Adult</td>\n      <td>Male</td>\n      <td>Large</td>\n      <td>White / Cream</td>\n      <td>About      Characteristics High energy, Not Ho...</td>\n      <td>Meet Nova              Meet Nova, Age 5 Weight...</td>\n    </tr>\n    <tr>\n      <th>4</th>\n      <td>Nova</td>\n      <td>Siberian Husky</td>\n      <td>Adult</td>\n      <td>Male</td>\n      <td>Large</td>\n      <td>White / Cream</td>\n      <td>About      Characteristics High energy, Not Ho...</td>\n      <td>Meet Nova              Meet Nova, Age 5 Weight...</td>\n    </tr>\n  </tbody>\n</table>\n</div>"
     },
     "execution_count": 73,
     "metadata": {},
     "output_type": "execute_result"
    }
   ],
   "source": [
    "# hmm, close but not quite, strip removed the surrounding whitespace, but there are still newline characters inside the strings\n",
    "# lets use regex to get rid of those along with pandas's \"replace\" method\n",
    "\n",
    "df2 = df.replace(r'\\n+', ' ', regex=True)\n",
    "df2.head()"
   ],
   "metadata": {
    "collapsed": false,
    "pycharm": {
     "name": "#%%\n"
    }
   }
  }
 ],
 "metadata": {
  "kernelspec": {
   "display_name": "Python 3",
   "language": "python",
   "name": "python3"
  },
  "language_info": {
   "codemirror_mode": {
    "name": "ipython",
    "version": 2
   },
   "file_extension": ".py",
   "mimetype": "text/x-python",
   "name": "python",
   "nbconvert_exporter": "python",
   "pygments_lexer": "ipython2",
   "version": "2.7.6"
  }
 },
 "nbformat": 4,
 "nbformat_minor": 0
}